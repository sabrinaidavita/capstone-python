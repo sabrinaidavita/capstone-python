{
 "cells": [
  {
   "cell_type": "code",
   "execution_count": 3,
   "metadata": {},
   "outputs": [],
   "source": [
    "from flask import Flask, render_template \n",
    "import pandas as pd\n",
    "import requests\n",
    "from bs4 import BeautifulSoup \n",
    "from io import BytesIO\n",
    "import base64\n",
    "import matplotlib.pyplot as plt"
   ]
  },
  {
   "cell_type": "code",
   "execution_count": 139,
   "metadata": {},
   "outputs": [],
   "source": [
    "#This is fuction for scrapping\n",
    "url = \"https://www.imdb.com/search/title/?release_date=2019-01-01,2019-12-31\"\n",
    "url_get = requests.get(url)\n",
    "soup = BeautifulSoup(url_get.content,\"html.parser\")\n",
    "\n",
    "# soup"
   ]
  },
  {
   "cell_type": "code",
   "execution_count": 140,
   "metadata": {},
   "outputs": [],
   "source": [
    "#Find the key to get the information\n",
    "table = soup.find(\"div\", { \"class\" : \"lister-list\" })\n",
    "# step1"
   ]
  },
  {
   "cell_type": "code",
   "execution_count": 141,
   "metadata": {},
   "outputs": [],
   "source": [
    "row = table.find_all(\"div\", { \"class\" : \"lister-item mode-advanced\" })\n",
    "# row"
   ]
  },
  {
   "cell_type": "code",
   "execution_count": 136,
   "metadata": {},
   "outputs": [
    {
     "data": {
      "text/plain": [
       "<span data-value=\"113149\" name=\"nv\">113,149</span>"
      ]
     },
     "execution_count": 136,
     "metadata": {},
     "output_type": "execute_result"
    }
   ],
   "source": [
    "test = row[1].find(\"span\", {\"name\" : \"nv\" })\n",
    "test"
   ]
  },
  {
   "cell_type": "code",
   "execution_count": 144,
   "metadata": {},
   "outputs": [
    {
     "data": {
      "text/plain": [
       "[('Sex Education', '8.3', '0', '99,477'),\n",
       " ('1917', '8.5', '78', '113,149'),\n",
       " ('The Witcher', '8.4', '0', '204,006'),\n",
       " ('Gisaengchung', '8.6', '96', '175,968'),\n",
       " ('Once Upon a Time ...in Hollywood', '7.8', '83', '356,171'),\n",
       " ('Joker', '8.6', '0', '640,099'),\n",
       " ('The Gentlemen', '8.1', '0', '15,913'),\n",
       " ('Jojo Rabbit', '8.0', '0', '66,226'),\n",
       " ('Little Women', '8.1', '91', '37,823'),\n",
       " ('The Mandalorian', '8.8', '0', '125,645'),\n",
       " ('Knives Out', '8.0', '82', '134,976'),\n",
       " ('Star Wars: Episode IX - The Rise of Skywalker', '6.9', '0', '243,525'),\n",
       " ('The Irishman', '8.0', '94', '218,617'),\n",
       " ('Terminator: Dark Fate', '6.3', '0', '80,252'),\n",
       " ('Marriage Story', '8.1', '93', '144,802'),\n",
       " ('Bombshell', '6.8', '64', '22,528'),\n",
       " ('Uncut Gems', '8.0', '90', '33,022'),\n",
       " ('The Lighthouse', '7.8', '83', '58,640'),\n",
       " ('Doctor Sleep', '7.5', '0', '58,818'),\n",
       " ('The Last Full Measure', '6.3', '0', '1,108'),\n",
       " ('Midsommar', '7.2', '72', '107,758'),\n",
       " ('Color Out of Space', '6.3', '70', '3,326'),\n",
       " ('Just Mercy', '7.4', '68', '7,211'),\n",
       " ('The Morning Show', '8.4', '0', '24,182'),\n",
       " ('Troop Zero', '7.0', '0', '2,279'),\n",
       " ('Aladdin', '7.0', '0', '179,286'),\n",
       " ('Ford v Ferrari', '8.2', '81', '103,896'),\n",
       " ('Jumanji: The Next Level', '7.0', '0', '69,817'),\n",
       " ('Cats', '2.8', '0', '24,656'),\n",
       " ('6 Underground', '6.1', '0', '92,617'),\n",
       " ('Dark Waters', '7.6', '73', '8,520'),\n",
       " ('Motherless Brooklyn', '6.9', '0', '16,061'),\n",
       " ('The Two Popes', '7.6', '75', '60,559'),\n",
       " ('Richard Jewell', '7.6', '68', '13,166'),\n",
       " ('Zombieland: Double Tap', '6.8', '0', '74,979'),\n",
       " ('Avengers: Endgame', '8.5', '78', '655,601'),\n",
       " ('The Boys', '8.7', '0', '127,776'),\n",
       " ('Maleficent: Mistress of Evil', '6.7', '0', '48,480'),\n",
       " ('Frozen II', '7.2', '64', '62,582'),\n",
       " ('Hustlers', '6.4', '79', '48,182'),\n",
       " ('Watchmen', '8.1', '0', '56,438'),\n",
       " ('Virgin River', '7.6', '0', '6,580'),\n",
       " ('Servant', '7.7', '0', '7,576'),\n",
       " ('His Dark Materials', '8.0', '0', '28,540'),\n",
       " ('The Good Liar', '6.5', '0', '7,822'),\n",
       " ('Gemini Man', '5.7', '0', '49,299'),\n",
       " ('Jay and Silent Bob Reboot', '5.9', '0', '7,556'),\n",
       " ('Ad Astra', '6.7', '80', '133,971'),\n",
       " ('Waves', '7.8', '80', '4,570'),\n",
       " ('Playing with Fire', '4.8', '0', '3,900')]"
      ]
     },
     "execution_count": 144,
     "metadata": {},
     "output_type": "execute_result"
    }
   ],
   "source": [
    "tmp = [] #initiating a tuple\n",
    "\n",
    "for i in range(0, len(row)):\n",
    "    title = row[i].find(\"h3\", { \"class\" : \"lister-item-header\" }).find('a').text.strip()\n",
    "    rating = row[i].find(\"div\", { \"inline-block ratings-imdb-rating\" }).find('strong').text.strip()\n",
    "    if (row[i].find(\"span\", { \"metascore favorable\" }) is None):\n",
    "        metascore = '0'\n",
    "    else:\n",
    "        metascore = row[i].find(\"span\", { \"metascore favorable\" }).text.strip()\n",
    "    votes = row[i].find(\"span\", {\"name\" : \"nv\" }).text.strip()\n",
    "    \n",
    "    \n",
    "    tmp.append((title, rating, metascore, votes)) #append the needed information \n",
    "    \n",
    "tmp"
   ]
  },
  {
   "cell_type": "code",
   "execution_count": 155,
   "metadata": {},
   "outputs": [
    {
     "data": {
      "text/html": [
       "<div>\n",
       "<style scoped>\n",
       "    .dataframe tbody tr th:only-of-type {\n",
       "        vertical-align: middle;\n",
       "    }\n",
       "\n",
       "    .dataframe tbody tr th {\n",
       "        vertical-align: top;\n",
       "    }\n",
       "\n",
       "    .dataframe thead th {\n",
       "        text-align: right;\n",
       "    }\n",
       "</style>\n",
       "<table border=\"1\" class=\"dataframe\">\n",
       "  <thead>\n",
       "    <tr style=\"text-align: right;\">\n",
       "      <th></th>\n",
       "      <th>judul</th>\n",
       "      <th>imdb_rating</th>\n",
       "      <th>metascore</th>\n",
       "      <th>votes</th>\n",
       "    </tr>\n",
       "  </thead>\n",
       "  <tbody>\n",
       "    <tr>\n",
       "      <th>0</th>\n",
       "      <td>Sex Education</td>\n",
       "      <td>8.3</td>\n",
       "      <td>0</td>\n",
       "      <td>99477</td>\n",
       "    </tr>\n",
       "    <tr>\n",
       "      <th>1</th>\n",
       "      <td>1917</td>\n",
       "      <td>8.5</td>\n",
       "      <td>78</td>\n",
       "      <td>113149</td>\n",
       "    </tr>\n",
       "    <tr>\n",
       "      <th>2</th>\n",
       "      <td>The Witcher</td>\n",
       "      <td>8.4</td>\n",
       "      <td>0</td>\n",
       "      <td>204006</td>\n",
       "    </tr>\n",
       "    <tr>\n",
       "      <th>3</th>\n",
       "      <td>Gisaengchung</td>\n",
       "      <td>8.6</td>\n",
       "      <td>96</td>\n",
       "      <td>175968</td>\n",
       "    </tr>\n",
       "    <tr>\n",
       "      <th>4</th>\n",
       "      <td>Once Upon a Time ...in Hollywood</td>\n",
       "      <td>7.8</td>\n",
       "      <td>83</td>\n",
       "      <td>356171</td>\n",
       "    </tr>\n",
       "  </tbody>\n",
       "</table>\n",
       "</div>"
      ],
      "text/plain": [
       "                              judul imdb_rating metascore   votes\n",
       "0                     Sex Education         8.3         0   99477\n",
       "1                              1917         8.5        78  113149\n",
       "2                       The Witcher         8.4         0  204006\n",
       "3                      Gisaengchung         8.6        96  175968\n",
       "4  Once Upon a Time ...in Hollywood         7.8        83  356171"
      ]
     },
     "execution_count": 155,
     "metadata": {},
     "output_type": "execute_result"
    }
   ],
   "source": [
    "df = pd.DataFrame(tmp, columns = ('judul' , 'imdb_rating' , 'metascore', 'votes'))\n",
    "df['votes'] = df['votes'].str.replace(\",\", \"\")\n",
    "df.head()"
   ]
  },
  {
   "cell_type": "code",
   "execution_count": 159,
   "metadata": {},
   "outputs": [
    {
     "data": {
      "text/plain": [
       "judul           object\n",
       "imdb_rating    float64\n",
       "metascore      float64\n",
       "votes            int32\n",
       "dtype: object"
      ]
     },
     "execution_count": 159,
     "metadata": {},
     "output_type": "execute_result"
    }
   ],
   "source": [
    "df['imdb_rating'] = df['imdb_rating'].astype('float')\n",
    "df['metascore'] = df['metascore'].astype('float')\n",
    "df['votes'] = df['votes'].astype('int')\n",
    "df.dtypes"
   ]
  },
  {
   "cell_type": "code",
   "execution_count": 160,
   "metadata": {},
   "outputs": [
    {
     "data": {
      "text/plain": [
       "<matplotlib.axes._subplots.AxesSubplot at 0x133fddd8148>"
      ]
     },
     "execution_count": 160,
     "metadata": {},
     "output_type": "execute_result"
    },
    {
     "data": {
      "text/plain": [
       "<Figure size 1500x600 with 0 Axes>"
      ]
     },
     "metadata": {},
     "output_type": "display_data"
    },
    {
     "data": {
      "image/png": "[encoded data removed]",
      "text/plain": [
       "<Figure size 432x288 with 1 Axes>"
      ]
     },
     "metadata": {
      "needs_background": "light"
     },
     "output_type": "display_data"
    }
   ],
   "source": [
    "#This part for rendering matplotlib\n",
    "fig = plt.figure(figsize=(5,2),dpi=300)\n",
    "df.plot()"
   ]
  }
 ],
 "metadata": {
  "kernelspec": {
   "display_name": "capstone",
   "language": "python",
   "name": "capstone"
  },
  "language_info": {
   "codemirror_mode": {
    "name": "ipython",
    "version": 3
   },
   "file_extension": ".py",
   "mimetype": "text/x-python",
   "name": "python",
   "nbconvert_exporter": "python",
   "pygments_lexer": "ipython3",
   "version": "3.7.6"
  },
  "toc": {
   "base_numbering": 1,
   "nav_menu": {},
   "number_sections": true,
   "sideBar": true,
   "skip_h1_title": false,
   "title_cell": "Table of Contents",
   "title_sidebar": "Contents",
   "toc_cell": false,
   "toc_position": {},
   "toc_section_display": true,
   "toc_window_display": false
  }
 },
 "nbformat": 4,
 "nbformat_minor": 2
}
